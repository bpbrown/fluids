{
 "cells": [
  {
   "cell_type": "markdown",
   "metadata": {},
   "source": [
    "Asynchronous class 5: Feb 3, 2021\n",
    "============================\n",
    "\n",
    "Today's asynchronous lecture takes us to non-adibatic effects in the internal energy equation.\n",
    "\n",
    "# Homework\n",
    "Remember: homework 1 is due this evening.\n",
    "\n",
    "Homework 2 will come out later today, due next Wednesday Feb 10.\n",
    "\n",
    "# Lecture\n",
    "Please watch these youtube videos on diffusion and non-adiabatic effects:\n",
    "\n",
    "1. [Internal Energy Equation: part 3: non-adiabatic effects](https://youtu.be/d2WLNS2Dnyo)\n",
    "2. [Prandtl numbers](https://youtu.be/79LDvfNgRPg)\n",
    "3. [What sets the scale of $\\chi$ and $\\nu$?](https://youtu.be/jrtAIlhBlco)\n",
    "\n",
    "Good sources for discussions of non-adiabatic effects include the classic [Landau & Lifshitz, vol 6: Fluid Mechanics](https://www.amazon.com/Fluid-Mechanics-Course-Theoretical-Physics/dp/0750627670) (great for discussions of viscosity, including non-Newtonian effects) and [Mihalas & Weibel-Mihalas, Foundations of Radiation Hydrodynamics](https://www.amazon.com/Foundations-Radiation-Hydrodynamics-Dover-Physics/dp/0486409252) (great for discussions of thermal diffusion in gases).\n",
    "\n",
    "Good discussions of physics for the interiors of stars can be found in textbooks like [Clayton: Principles of Stellar Evolution and Nucleosynthesis](https://www.amazon.com/Principles-Stellar-Evolution-Nucleosynthesis-Clayton/dp/0226109534), and also in the \"instrument papers\" for the MESA stellar evolution code ([MESA: Modules for Experiments in Stellar Astrophysics](http://mesa.sourceforge.net/)).  These include [Paxton et al 2011](https://ui.adsabs.harvard.edu/abs/2011ApJS..192....3P/abstract), [Paxton et al 2013](https://ui.adsabs.harvard.edu/abs/2013ApJS..208....4P/abstract), [Paxton et al 2015](https://ui.adsabs.harvard.edu/abs/2015ApJS..220...15P/abstract), [Paxton et al 2018](https://ui.adsabs.harvard.edu/abs/2018ApJS..234...34P/abstract) and [Paxton et al 2019](https://ui.adsabs.harvard.edu/abs/2019ApJS..243...10P/abstract).\n",
    "\n",
    "For planets, the MESA papers have some useful things to say about modelling the interiors of gas giants.  For planetary atmospheres, [Pierrehuimbert: Principles of Planetary Climate](https://www.amazon.com/Principles-Planetary-Climate-Raymond-Pierrehumbert/dp/0521865565/) is a good textbook to start with."
   ]
  },
  {
   "cell_type": "raw",
   "metadata": {},
   "source": [
    "\\newpage"
   ]
  },
  {
   "cell_type": "markdown",
   "metadata": {},
   "source": [
    "# Participation\n",
    "After watching these lectures, do the following:\n",
    "\n",
    "1. Starting from the internal energy equation from the last few lectures, and assuming adiabaticity ($T Ds/Dt = 0$), derive the pressure equation for an adibatic ideal gas:\n",
    "\\begin{equation}\n",
    "\\frac{D P}{D t} = -\\gamma P \\vec{\\nabla}\\cdot\\vec{u}\n",
    "\\end{equation}\n",
    "Show your work.\n",
    "\n",
    "\n",
    "2. Now, abandon the assumption of adiabaticity.  Assume an ideal gas, and assume that the non-adibatic continuity equation remains the same as before:\n",
    "\\begin{equation}\n",
    "\\frac{1}{\\rho}\\frac{D \\rho}{D t} = -\\vec{\\nabla}\\cdot\\vec{u}\n",
    "\\end{equation}\n",
    "What is the new non-adibatic pressure equation,\n",
    "\\begin{equation}\n",
    "\\frac{D P}{Dt} = \\ldots?\n",
    "\\end{equation}\n",
    "Write this for the three forms of $T Ds/Dt$ discussed in [Internal Energy Equation: part 3: non-adiabatic effects](https://youtu.be/d2WLNS2Dnyo) (either as separate equations, or as a single combined equation).\n",
    "\n",
    "\n",
    "3. Consider the temperature equation for an ideal gas, with diffusion, but with no motion, for the case where $K=\\rho c_P \\chi = \\text{constant}$:\n",
    "\\begin{equation}\n",
    "\\frac{\\partial T}{\\partial t} = \\frac{1}{c_V}\\frac{1}{\\rho}\\vec{\\nabla}\\cdot(K\\vec{\\nabla}T) = \\gamma \\chi \\nabla^2 T\n",
    "\\end{equation}\n",
    "with $\\chi$ the diffusion coefficient with units of $L^2/T$ (and $\\gamma=c_P/c_V$).  \n",
    "    - What is the solution to this PDE?\n",
    "    - What is the characteristic timescale that the PDE evolves on?\n",
    "    - If you start with a localized hot spot (a bump of positive $T$), what happens to that bump as the system evolves with increasing time?\n",
    "\n",
    "**To Turn in**:\n",
    "Send Ben your answers to 1, 2 & 3 via Canvas, uploading to Asynchronous Lecture 5.  This can be via PDF or via photos of pen and paper work.  Send it by noon, Thursday Feb 4."
   ]
  }
 ],
 "metadata": {
  "kernelspec": {
   "display_name": "Python 3",
   "language": "python",
   "name": "python3"
  },
  "language_info": {
   "codemirror_mode": {
    "name": "ipython",
    "version": 3
   },
   "file_extension": ".py",
   "mimetype": "text/x-python",
   "name": "python",
   "nbconvert_exporter": "python",
   "pygments_lexer": "ipython3",
   "version": "3.8.2"
  }
 },
 "nbformat": 4,
 "nbformat_minor": 4
}
