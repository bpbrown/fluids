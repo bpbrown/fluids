{
 "cells": [
  {
   "cell_type": "markdown",
   "metadata": {},
   "source": [
    "Asynchronous class 2: Jan 25, 2021\n",
    "============================\n",
    "\n",
    "Today's asynchronous lecture continues explorations of hydrostatic equilibrium.\n",
    "\n",
    "# Lecture\n",
    "For our first asynchronous class, please watch 3 youtube videos about the Euler momentum equation, Lagrangian deriviatives, and the continuity equation.\n",
    "\n",
    "1. [Incompressible equations](https://youtu.be/1lOjHaigJQ0)\n",
    "2. [Hydrostatic balance](https://youtu.be/gegGPuIvR6Y)\n",
    "3. [Polytropes and atmospheres](https://youtu.be/j1XGlY0XqnQ)\n",
    "\n",
    "\n",
    "# Participation\n",
    "After watching these lectures, do two things.\n",
    "\n",
    "**First,** set up an accout for yourself on CU's [Research Computing system](https://www.colorado.edu/rc/).  Go to their webpage, click \"Request an account\", click \"University of Colorado, Boulder\" and continue from there.  You must do this before Wednesday's class, as you will need it for that class and for your first homework.\n",
    "\n",
    "Then, go the the [JupyterLab page](https://jupyter.rc.colorado.edu/).  \"Spawn\" a session, which will put you into an interactive jupyter environment.  Click \"File\" and \"New Launcher\".  Under \"Other\" click \"Text File\" and once that opens, paste this exactly:"
   ]
  },
  {
   "cell_type": "raw",
   "metadata": {},
   "source": [
    "~\\newline\n",
    "~\\newline\n",
    "\\small\\verb+export JUPYTER_PATH=/pl/active/courses/2021_spring/ASTR_5400_001/software/anaconda/share/jupyter+\n",
    "~\\newline\n",
    "~\\newline"
   ]
  },
  {
   "cell_type": "markdown",
   "metadata": {},
   "source": [
    "then save this (\"File\", \"Save file as\") with a file name of `.jupyterrc` (the dot is very important).  So when it says `/home/<your user name>/untitled.txt` replace that with `/home/<your user name>/.jupyterrc` and click \"save\".\n",
    "\n",
    "You can also do this via the terminal, using a text editor (like `nano` or `emacs` or `vi`).\n",
    "\n",
    "Either way, test that this worked by opening a terminal (\"File\", \"New Launcher\", \"Other\", \"Terminal\") and type this exactly: `more ~/.jupyterrc`, which should print a single line out.  Here's how it looks on my account:"
   ]
  },
  {
   "cell_type": "raw",
   "metadata": {},
   "source": [
    "~\\newline\n",
    "\\small\n",
    "\\begin{verbatim}\n",
    "[bpbrown@shas0646 ~]$ more ~/.jupyterrc\n",
    "export JUPYTER_PATH=/pl/active/courses/2021_spring/ASTR_5400_001/software/anaconda/share/jupyter\n",
    "[bpbrown@shas0646 ~]$\n",
    "\\end{verbatim}\n",
    "\\newpage"
   ]
  },
  {
   "cell_type": "markdown",
   "metadata": {},
   "source": [
    "**Second,** solve these problems.\n",
    "\n",
    "1. Estimate $H_\\rho$, the density scale height, for Earth's atmosphere assuming an isothermal atmosphere.  Make reasonable assumptions and state them; report your answer in units of km.\n",
    "\n",
    "2. The Earth's atmosphere is clearly not isothermal: it's cold on top of mountains.  Here, assume the Earth's atmosphere is polytropic in nature and assume that the troposphere is adiabatically stratified.  Calculate $\\nabla T$ for the troposphere.  Make reasonable assumptions and state them; report your answer in units of K/km.\n",
    "\n",
    "3. Using your solution to (2), estimate the temperature difference between sea level and Trail Ridge road in Rocky mountain park (average altitude of ~12,000 ft or ~3.6km).\n",
    "\n",
    "**To Turn in**: Send Ben your answers via Canvas, uploading to Asynchronous Lecture 2.  You can send a PDF, or you can work this out on paper and send a picture.  Whatever works for you.  Send it by noon, Tuesday Jan 26."
   ]
  }
 ],
 "metadata": {
  "kernelspec": {
   "display_name": "Python 3",
   "language": "python",
   "name": "python3"
  },
  "language_info": {
   "codemirror_mode": {
    "name": "ipython",
    "version": 3
   },
   "file_extension": ".py",
   "mimetype": "text/x-python",
   "name": "python",
   "nbconvert_exporter": "python",
   "pygments_lexer": "ipython3",
   "version": "3.8.2"
  }
 },
 "nbformat": 4,
 "nbformat_minor": 4
}
