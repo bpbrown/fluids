{
 "cells": [
  {
   "cell_type": "markdown",
   "metadata": {},
   "source": [
    "Asynchronous class 15: March 17, 2021\n",
    "============================\n",
    "\n",
    "Today we learn about the counter-intutive world of low Reynolds number flow.\n",
    "\n",
    "# Homework\n",
    "Homework 4 is due tonight.  Next week is \"spring pause\", so no homework assigned today.  Start mentally planning for our exam sometime in the first or second week of April, and we'll start seeing details on our projects soon.\n",
    "\n",
    "# Lecture\n",
    "Please watch this video on low-Reynolds number flows:\n",
    "\n",
    "1. [Low-Reynolds-Number Flows (NCFMF)](https://www.youtube.com/watch?v=51-6QCJTAjU&list=PL0EC6527BE871ABA3&index=8)\n",
    "\n",
    "Then please read this paper:\n",
    "\n",
    "2. [Life at low Reynolds number](https://aapt.scitation.org/doi/10.1119/1.10903) (and PDF on Canvas)\n",
    "\n",
    "The first video is part of the classic [National Commitee on Fluids Mechanics Films](http://web.mit.edu/hml/ncfmf.html); there are many other cool ones.\n",
    "\n",
    "For class on Friday, please bring:\n",
    "\n",
    "   - a clear container (I'll bring a Mason jar)\n",
    "   - water in that container\n",
    "   - food coloring\n",
    "   - a spoon"
   ]
  },
  {
   "cell_type": "raw",
   "metadata": {},
   "source": [
    "\\newpage"
   ]
  },
  {
   "cell_type": "markdown",
   "metadata": {},
   "source": [
    "# Participation\n",
    "\n",
    "1. What is the neatest thing you learned from “Low-Reynolds-Number Flows” (Shapiro, 1961)?\n",
    "\n",
    "2. What is the neatest thing you learned from “Life at Low Reynolds number” (Purcell, 1976)?\n",
    "\n",
    "3. Estimate the Reynolds number of yourself swimming in a pool of water.  Determine if there is a fluid we could fill a pool with such that you would experience low-Reynolds number effects if you tried to swim through it (e.g., $Re \\lesssim 1$).\n",
    "\n",
    "4. Give your own example of counter-intuitive low-Reynolds number effects, or non-Newtonian fluid effects, or something else really surprising about viscous fluids. Find something not from that video or paper and not from things we’ve seen or discussed in class.\n",
    "    \n",
    "\n",
    "**To Turn in**:\n",
    "Send Ben your answers to 1-4 via Canvas, uploading to Asynchronous Lecture 15.  Send by noon, Thursday March 18."
   ]
  }
 ],
 "metadata": {
  "kernelspec": {
   "display_name": "Python 3",
   "language": "python",
   "name": "python3"
  },
  "language_info": {
   "codemirror_mode": {
    "name": "ipython",
    "version": 3
   },
   "file_extension": ".py",
   "mimetype": "text/x-python",
   "name": "python",
   "nbconvert_exporter": "python",
   "pygments_lexer": "ipython3",
   "version": "3.8.6"
  }
 },
 "nbformat": 4,
 "nbformat_minor": 4
}
