{
 "cells": [
  {
   "cell_type": "markdown",
   "metadata": {},
   "source": [
    "Asynchronous class 23: April 21, 2021\n",
    "============================\n",
    "\n",
    "Time to do some nonlinear simulations of convection.  We'll stick here to Rayleigh-Benard convection.\n",
    "\n",
    "# Homework\n",
    "No written homework.  You're reading two things this week:\n",
    "1. Chodhuri chapter 9 (\"Rotation and hydrodynamics\")\n",
    "2. Chandrasekhar chapter 2 (\"The effect of rotation\")\n",
    "\n",
    "You also have an exam due Friday; we've extended the deadline to mid-day Saturday April 24.\n",
    "\n",
    "# Lecture\n",
    "\n",
    "1. Watch [Intuition for nonlinear convection](https://youtu.be/LqJ8eWhJm7Q)\n",
    "\n",
    "2. Work through the material below.\n",
    "\n",
    "This notebook will require `dedalus` to complete, but the initial coding of the dedalus problem is done for you.  On the JupyterLab, I have files for everyone under folder `AS23`.  You need to move your file into your local home directory to run it successfully, based on experiences by students in the class on other exercises.  If you do this on RC's JupyterLab, download the notebook after you complete it (right click on it in the file tree to get that option), and upload that to Canvas."
   ]
  },
  {
   "cell_type": "markdown",
   "metadata": {},
   "source": []
  },
  {
   "cell_type": "raw",
   "metadata": {},
   "source": [
    "\\renewcommand{\\vec}{\\boldsymbol}\n",
    "\\newcommand{\\del}{\\vec{\\nabla}}\n",
    "\\newcommand{\\pomega}{\\varpi}"
   ]
  },
  {
   "cell_type": "markdown",
   "metadata": {},
   "source": [
    "# Nonlinear Rayleigh-Benard convection\n",
    "The nonlinear Rayleigh-Benard equations, non-dimensionalized on a free-fall timescale are:\n",
    "\\begin{align}\n",
    "\\vec{\\nabla}\\cdot\\vec{u} &= 0 \\\\\n",
    "\\frac{\\partial}{\\partial t} T + -\\mathcal{P} \\nabla^2 T  &= - \\vec{u}\\cdot\\vec{\\nabla}T\\\\\n",
    "\\frac{\\partial}{\\partial t} \\vec{u} -\\vec{\\nabla}\\varpi - T \\vec{\\hat{z}} - \\mathcal{R} \\nabla^2 \\vec{u} &= - \\vec{u}\\cdot\\vec{\\nabla}\\vec{u}\n",
    "\\end{align}\n",
    "where the control parameters $\\mathcal{R}$ and $\\mathcal{P}$ are related to the Rayleigh number $\\mathrm{Ra}$ and Prandtl number $\\mathrm{Pr}$ by\n",
    "\\begin{align}\n",
    "    \\mathcal{R}^2 = \\frac{\\mathrm{Ra}}{\\mathrm{Pr}} \\\\\n",
    "    \\mathcal{P}^2 = \\mathrm{Ra}\\mathrm{Pr}\n",
    "\\end{align}\n",
    "as we derived earlier in the course.\n",
    "\n",
    "A `dedalus` script that solves for 2-dimensional Rayleigh-Benard appears below.  Problems like this can be simple enough to solve on a single processor (like on RC's JupyterLab), though they can also require parallel computation for extreme parameters and high resolutions."
   ]
  },
  {
   "cell_type": "code",
   "execution_count": null,
   "metadata": {},
   "outputs": [],
   "source": [
    "from mpi4py import MPI\n",
    "import time\n",
    "import sys\n",
    "import os\n",
    "import numpy as np\n",
    "import pathlib\n",
    "import logging\n",
    "\n",
    "from dedalus import public as de\n",
    "from dedalus.extras import flow_tools\n",
    "from dedalus.tools  import post\n",
    "\n",
    "\n",
    "def rayleigh_benard(Rayleigh, Prandtl, nz, \n",
    "                    run_time=100, report_cadence=10, aspect=4):\n",
    "    nx = aspect*nz\n",
    "    case_name = data_dir = 'rayleigh_benard_Ra{:.1e}_Pr{:}_nx{:d}_nz{:d}'.format(Rayleigh,Prandtl, nx, nz)+'/'\n",
    "    \n",
    "    from dedalus.tools.config import config\n",
    "    config['logging']['filename'] = os.path.join(data_dir,'logs/dedalus_log')\n",
    "    config['logging']['file_level'] = 'DEBUG'\n",
    "\n",
    "    import mpi4py.MPI\n",
    "    if mpi4py.MPI.COMM_WORLD.rank == 0:\n",
    "        if not os.path.exists('{:s}/'.format(data_dir)):\n",
    "            os.mkdir('{:s}/'.format(data_dir))\n",
    "        logdir = os.path.join(data_dir,'logs')\n",
    "        if not os.path.exists(logdir):\n",
    "            os.mkdir(logdir)\n",
    "    # Parameters\n",
    "    Lx, Lz = (aspect, 1.)\n",
    "\n",
    "    # Create bases and domain\n",
    "    x_basis = de.Fourier(  'x', nx, interval=(0, Lx), dealias=3/2)\n",
    "    z_basis = de.Chebyshev('z', nz, interval=(-Lz/2, Lz/2), dealias=3/2)\n",
    "    domain = de.Domain([x_basis, z_basis], grid_dtype=np.float64)\n",
    "\n",
    "    # 2D Boussinesq hydrodynamics\n",
    "    problem = de.IVP(domain, variables=['p','b','u','w','bz','uz','wz'])\n",
    "    problem.meta['p','b','u','w']['z']['dirichlet'] = True\n",
    "    problem.parameters['P'] = (Rayleigh * Prandtl)**(-1/2)\n",
    "    problem.parameters['R'] = (Rayleigh / Prandtl)**(-1/2)\n",
    "    problem.parameters['F'] = F = 1\n",
    "    problem.add_equation(\"dx(u) + wz = 0\")\n",
    "    problem.add_equation(\"dt(b) - P*(dx(dx(b)) + dz(bz)) - F*w       = -(u*dx(b) + w*bz)\")\n",
    "    problem.add_equation(\"dt(u) - R*(dx(dx(u)) + dz(uz)) + dx(p)     = -(u*dx(u) + w*uz)\")\n",
    "    problem.add_equation(\"dt(w) - R*(dx(dx(w)) + dz(wz)) + dz(p) - b = -(u*dx(w) + w*wz)\")\n",
    "    problem.add_equation(\"bz - dz(b) = 0\")\n",
    "    problem.add_equation(\"uz - dz(u) = 0\")\n",
    "    problem.add_equation(\"wz - dz(w) = 0\")\n",
    "    problem.add_bc(\"left(b) = 0\")\n",
    "    problem.add_bc(\"left(u) = 0\")\n",
    "    problem.add_bc(\"left(w) = 0\")\n",
    "    problem.add_bc(\"right(b) = 0\")\n",
    "    problem.add_bc(\"right(u) = 0\")\n",
    "    problem.add_bc(\"right(w) = 0\", condition=\"(nx != 0)\")\n",
    "    problem.add_bc(\"right(p) = 0\", condition=\"(nx == 0)\")\n",
    "\n",
    "    logger = logging.getLogger(__name__)\n",
    "\n",
    "    # Build solver\n",
    "    solver = problem.build_solver(de.timesteppers.RK222)\n",
    "    logger.info('Solver built')\n",
    "\n",
    "    # Initial conditions\n",
    "    x = domain.grid(0)\n",
    "    z = domain.grid(1)\n",
    "    b = solver.state['b']\n",
    "    bz = solver.state['bz']\n",
    "\n",
    "    # Random perturbations, initialized globally for same results in parallel\n",
    "    gshape = domain.dist.grid_layout.global_shape(scales=1)\n",
    "    slices = domain.dist.grid_layout.slices(scales=1)\n",
    "    rand = np.random.RandomState(seed=42)\n",
    "    noise = rand.standard_normal(gshape)[slices]\n",
    "\n",
    "    # Linear background + perturbations damped at walls\n",
    "    zb, zt = z_basis.interval\n",
    "    pert =  1e-3 * noise * (zt - z) * (z - zb)\n",
    "    b['g'] = F * pert\n",
    "    b.differentiate('z', out=bz)\n",
    "\n",
    "    # Initial timestep\n",
    "    dt = 0.125\n",
    "\n",
    "    # Integration parameters\n",
    "    solver.stop_sim_time = run_time\n",
    "    solver.stop_wall_time = np.inf\n",
    "    solver.stop_iteration = np.inf\n",
    "\n",
    "    # Analysis\n",
    "    snapshots = solver.evaluator.add_file_handler(data_dir+'snapshots', sim_dt=0.25, max_writes=50, mode='overwrite')\n",
    "    snapshots.add_system(solver.state)\n",
    "    snapshots.add_task(\"b - F*z\", name=\"b_full\")\n",
    "    # CFL\n",
    "    CFL = flow_tools.CFL(solver, initial_dt=dt, cadence=1, safety=1,\n",
    "                         max_change=1.5, min_change=0.5, max_dt=0.125, threshold=0.05)\n",
    "    CFL.add_velocities(('u', 'w'))\n",
    "\n",
    "    # Flow properties\n",
    "    flow = flow_tools.GlobalFlowProperty(solver, cadence=10)\n",
    "    flow.add_property(\"sqrt(u*u + w*w) / R\", name='Re')\n",
    "\n",
    "    # Main loop\n",
    "    try:\n",
    "        logger.info('Starting loop')\n",
    "        start_time = time.time()\n",
    "        while solver.ok:\n",
    "            dt = CFL.compute_dt()\n",
    "            solver.step(dt)\n",
    "            if (solver.iteration) % report_cadence == 0:\n",
    "                logger.info('Iteration={:d}, Time={:.2e}, dt={:.2e}, Re={:.2e}'.format(solver.iteration, solver.sim_time, dt, flow.max('Re')))\n",
    "    except:\n",
    "        logger.error('Exception raised, triggering end of main loop.')\n",
    "        raise\n",
    "    finally:\n",
    "        end_time = time.time()\n",
    "        logger.info('beginning merge operation')\n",
    "        post.merge_process_files(snapshots.base_path, cleanup=True)\n",
    "        logger.info('Iterations: %i' %solver.iteration)\n",
    "        logger.info('Sim end time: %f' %solver.sim_time)\n",
    "        logger.info('Run time: %.2f sec' %(end_time-start_time))\n",
    "        logger.info('Run time: %f cpu-hr' %((end_time-start_time)/60/60*domain.dist.comm_cart.size))\n",
    "\n",
    "    return case_name"
   ]
  },
  {
   "cell_type": "markdown",
   "metadata": {},
   "source": [
    "With the function `rayleigh_benard` defined, we can now set our Rayleigh and Prandtl numbers and our grid resolution, and then we can run cases like so:"
   ]
  },
  {
   "cell_type": "code",
   "execution_count": null,
   "metadata": {},
   "outputs": [],
   "source": [
    "Rayleigh = 1e4\n",
    "Prandtl  = 1\n",
    "nz = 32\n",
    "case_name = rayleigh_benard(Rayleigh, Prandtl, nz, run_time=100)"
   ]
  },
  {
   "cell_type": "markdown",
   "metadata": {},
   "source": [
    "This low-resolution case takes about 15 seconds to run on my laptop.  The simulation outputs some text data to the screen, reporting the evolved sim time, the number of iterations (timesteps), the size of the timesteps (dt), and the peak Reynolds number in the domain (Re).  The timesteps are conducted using a Runge-Kutta second order, two stage implicit/explicit scheme and the timestep size is adaptively calculated using a CFL criteria (though for this low $\\mathrm{Ra}$ case we don't see any change in dt; you will as $\\mathrm{Ra}$ increases).  At the end of the run, the data is stored in a directory named `case_name` and is ready for plotting.\n",
    "\n",
    "From the text outputs, we can see that the simulation reaches a steady state.  We see this from the Reynolds number Re saturating at a fixed value, with no visible changes in time.  This is typical for convection just above onset (as this is at these parameters)."
   ]
  },
  {
   "cell_type": "markdown",
   "metadata": {},
   "source": [
    "Next we need to plot our data.  The approach here is to compute the data once, and the visualize it separately.  This lets you quickly iterate on the visualization as you try to adjust figures to show something you want to understand and is useful technique.  If we weren't in JupyterLab, these steps could be done in parallel (as could the above simulation).\n",
    "\n",
    "The data is on disk in a directory named `case_name/snapshots` and the block of code below will create visualizations of the data (as `.png` files) in `case_name/frames`, where you can then import and examine the data."
   ]
  },
  {
   "cell_type": "code",
   "execution_count": null,
   "metadata": {},
   "outputs": [],
   "source": [
    "%matplotlib inline\n",
    "%config InlineBackend.figure_format = 'retina'\n",
    "import matplotlib.pyplot as plt\n",
    "from dedalus.extras import plot_tools\n",
    "import h5py\n",
    "from IPython.display import Image\n",
    "\n",
    "def plot_field(case_name):\n",
    "    \"\"\"Save plot of specified tasks for given range of analysis writes.\"\"\"\n",
    "    data_dir = case_name+'/snapshots'\n",
    "    output_path = pathlib.Path(case_name+'/frames').absolute()\n",
    "    # Create output directory if needed\n",
    "    if not output_path.exists():\n",
    "        output_path.mkdir()\n",
    "    # Plot settings\n",
    "    tasks = ['b_full']\n",
    "    scale = 2.5\n",
    "    dpi = 100\n",
    "    title_func = lambda sim_time: 't = {:.3f}'.format(sim_time)\n",
    "    savename_func = lambda write: 'snapshot_{:06}.png'.format(write)\n",
    "    # Layout\n",
    "    nrows, ncols = 1, 1\n",
    "    image = plot_tools.Box(4, 1)\n",
    "    pad = plot_tools.Frame(0.2, 0.2, 0.1, 0.1)\n",
    "    margin = plot_tools.Frame(0.3, 0.2, 0.1, 0.1)\n",
    "\n",
    "    # Create multifigure\n",
    "    mfig = plot_tools.MultiFigure(nrows, ncols, image, pad, margin, scale)\n",
    "    fig = mfig.figure\n",
    "    # Plot writes\n",
    "    for file in os.listdir(data_dir):\n",
    "        filename = data_dir+'/'+file\n",
    "        with h5py.File(filename, mode='r') as file:\n",
    "            for index, time in enumerate(file['scales/sim_time']):\n",
    "                for n, task in enumerate(tasks):\n",
    "                    # Build subfigure axes\n",
    "                    i, j = divmod(n, ncols)\n",
    "                    axes = mfig.add_axes(i, j, [0, 0, 1, 1])\n",
    "                    # Call 3D plotting helper, slicing in time\n",
    "                    dset = file['tasks'][task]\n",
    "                    plot_tools.plot_bot_3d(dset, 0, index, axes=axes, title=task, even_scale=True)\n",
    "                # Add time title\n",
    "                title = title_func(file['scales/sim_time'][index])\n",
    "                title_height = 1 - 0.5 * mfig.margin.top / mfig.fig.y\n",
    "                fig.suptitle(title, x=0.48, y=title_height, ha='left')\n",
    "                # Save figure\n",
    "                savename = savename_func(file['scales/write_number'][index])\n",
    "                savepath = output_path.joinpath(savename)\n",
    "                fig.savefig(str(savepath), dpi=dpi)\n",
    "                fig.clear()\n",
    "    plt.close(fig)"
   ]
  },
  {
   "cell_type": "markdown",
   "metadata": {},
   "source": [
    "Let's run this for the case we just conducted:"
   ]
  },
  {
   "cell_type": "code",
   "execution_count": null,
   "metadata": {},
   "outputs": [],
   "source": [
    "plot_field(case_name)"
   ]
  },
  {
   "cell_type": "markdown",
   "metadata": {},
   "source": [
    "And let's display a couple of these in-line in our notebook, choosing a snapshot early in the evolution to begin with:"
   ]
  },
  {
   "cell_type": "code",
   "execution_count": null,
   "metadata": {},
   "outputs": [],
   "source": [
    "Image('./'+case_name+'frames/snapshot_000010.png')"
   ]
  },
  {
   "cell_type": "markdown",
   "metadata": {},
   "source": [
    "Here we can clearly see the linear, unstable temperature gradient (hot on the bottom and cold on the top).  The temperature ranges from $[-0.5, 0.5]$, so $\\pm 0.5$ are the hotest and coldest temperatures in the system (based on boundary forcing).\n",
    "\n",
    "What do things look like later on?  Here's a snapshot from t=100 (snapshots once every $\\Delta t=0.25$, so $t=400 \\Delta t=100$):"
   ]
  },
  {
   "cell_type": "code",
   "execution_count": null,
   "metadata": {},
   "outputs": [],
   "source": [
    "Image('./'+case_name+'frames/snapshot_000400.png')"
   ]
  },
  {
   "cell_type": "markdown",
   "metadata": {},
   "source": [
    "Here we can see we're clearly in the nonlinear state, where hot plumes of convection have extended up from the bottom to the top and cold plumes have reached from the top to the bottom.\n",
    "\n",
    "Neat.  You can run this case at a resolution of $n_z=16$ just fine too, the images are just a bit less snazzy (unless you're a real fan of pixel art).  At $n_z=16$, this takes about 6 seconds to run.  If you increase resolution you capture features better, if you decrease resolution you do a poorer job and eventually you'll start to experience what's called \"spectral ringing\" and your solution will be dominated by numerical error."
   ]
  },
  {
   "cell_type": "markdown",
   "metadata": {},
   "source": [
    "# Participation\n",
    "\n",
    "1. Conduct convection experiments at Ra={2e3,2e4,2e5,2e6}. The low Ra runs will need to run for long enough to reach a steady-sate; you can estimate this by watching the peak Re; this can be done at lower resolution if desired. Ra=2e3 takes roughly 300 buoyancy times to equilibrate, and is well resolved at nz=16, whereas Ra=2e6 needs at least nz=64 but is relatively equilibrated by t~50.   \n",
    "\n",
    "2. For each case (each value of Ra), estimate (and report) at what time the system passes through it's transient (when has the Reynolds number peaked).  Make plots of the thermal buoyancy field using `plot_field(case_name)`.  Show plots after the system passes transient (sometime after Reynolds number drops from its peak value).  \n",
    "\n",
    "3. Which simulations are steady-state (flow field remains the same), and which are dynamically evolving?  If the system is in steady-state, show one plot, but if it is not a steady state, show a couple of plots (2-3) that illustrate dynamics.  The plots are output every `0.25` buoyancy times, so a couple of adjacent frames will capture 1 bouyancy time.\n",
    "\n",
    "4. Using these plots, describe how the thermal boundary layers change as the Rayleigh number increases.\n",
    "\n",
    "5. Quantify (or estimate) the scaling of boundary layer thickness (vertical extent) with Ra. \n",
    "\n",
    "\n",
    "One of your simulations above is under-resolved.  Let's see what this looks like in practice.\n",
    "\n",
    "6. Examine your run at Ra=2e6 at $n_z=64$ more closely (or do a run there if you haven't). What unusual thing is occurring at certain times (hint: look at plots just after transient)? Quantify with plots and description. What do you think is happening?\n",
    "\n",
    "7. What resolution do you need to successfully run at Ra=2e6? Demonstrate that this works by showing a plot of b_full in the new, working resolution and in the old, default, not-working resolution.  I'd suggest running to `run_time=50` so you're not waiting too long (it'll still take a bit)."
   ]
  },
  {
   "cell_type": "markdown",
   "metadata": {},
   "source": [
    "**To Turn in**:\n",
    "Send Ben your answers to 1-7 via Canvas, uploading to Asynchronous Lecture 23.  You can do that in this ipynb and upload as an ipynb.  You can also export to PDF if you prefer.  If you do this on RC's JupyterLab, download the notebook after you complete it, and upload that to Canvas.  Please send by midnight, Thursday April 22."
   ]
  }
 ],
 "metadata": {
  "kernelspec": {
   "display_name": "Python 3",
   "language": "python",
   "name": "python3"
  },
  "language_info": {
   "codemirror_mode": {
    "name": "ipython",
    "version": 3
   },
   "file_extension": ".py",
   "mimetype": "text/x-python",
   "name": "python",
   "nbconvert_exporter": "python",
   "pygments_lexer": "ipython3",
   "version": "3.8.6"
  }
 },
 "nbformat": 4,
 "nbformat_minor": 4
}
