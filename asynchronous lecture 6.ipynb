{
 "cells": [
  {
   "cell_type": "markdown",
   "metadata": {},
   "source": [
    "Asynchronous class 6: Feb 8, 2021\n",
    "============================\n",
    "\n",
    "Today's asynchronous lecture takes us to understanding where diffusive-like terms come from for radiative transport and examining entropy.\n",
    "\n",
    "# Homework\n",
    "You're working on Homework 2 now.  You should also have read Chapter 4 of Choudhuri, and you should read Chapter 3 by Wednesday.\n",
    "\n",
    "# Lecture\n",
    "Please watch these youtube videos on radiative diffusion and entropy:\n",
    "\n",
    "1. [The connection between radiation and diffusive transport](https://youtu.be/jrwWLQ-r_i0)\n",
    "2. [Entropy: stability of atmospheres](https://youtu.be/D9zOdWuBPEU)\n",
    "3. [Entropy: the case of polytropes](https://youtu.be/eUetLsMH5dA)"
   ]
  },
  {
   "cell_type": "raw",
   "metadata": {},
   "source": [
    "\\newpage"
   ]
  },
  {
   "cell_type": "markdown",
   "metadata": {},
   "source": [
    "# Participation\n",
    "After watching these lectures, do the following:\n",
    "\n",
    "1. Take the atmosphere you plotted in Asynchronous Lecture 4 (Earth, solar interior, solar atmosphere), or a different one if you prefer.\n",
    "    - Assuming a constant $\\gamma$ appropriate to the system you're studying, estimate $\\nabla s$.  We're looking for signs here, rather than exact amplitudes.\n",
    "    - Mark different regions of the system as \"stable\", \"unstable\" or \"adiabatic\".\n",
    "    \n",
    "    ($\\gamma$: monotamic ideal gas for the solar interior or atmosphere; diatomic ideal gas for Earth)\n",
    "    \n",
    "    \n",
    "    \n",
    "2. For the same atmosphere, try to answer: \"Is this atmosphere in hydrostatic balance?\"\n",
    "    - To do this, compute something like $\\nabla \\ln P$ and compute $\\vec{g}/(R T)$, and find the differences.  Consider plotting $\\nabla \\ln P(z) - \\vec{g(z)}/(R T(z))|$ as a function of $z$, and also the maximum amplitude of this (this is the $L_2$ error in hydrostatic balance).\n",
    "    \n",
    "    - How big are the differences between these two? \n",
    "    - Are those differences significant? \n",
    "    \n",
    "    Watch your units carefully ($g/RT$ should have dimensions $1/L$).  For earth: assume a constant $g$.\n",
    "\n",
    "\n",
    "**To Turn in**:\n",
    "Send Ben your answers to 1 & 2 via Canvas, uploading to Asynchronous Lecture 6.  This can be via PDF or via photos of pen and paper work, but I'd suggest PDF so you can compute all these things in a notebook.  Use RC jupyterlab if it helps.  Send it by noon, Tuesday Feb 9."
   ]
  }
 ],
 "metadata": {
  "kernelspec": {
   "display_name": "Python 3",
   "language": "python",
   "name": "python3"
  },
  "language_info": {
   "codemirror_mode": {
    "name": "ipython",
    "version": 3
   },
   "file_extension": ".py",
   "mimetype": "text/x-python",
   "name": "python",
   "nbconvert_exporter": "python",
   "pygments_lexer": "ipython3",
   "version": "3.8.2"
  }
 },
 "nbformat": 4,
 "nbformat_minor": 4
}
