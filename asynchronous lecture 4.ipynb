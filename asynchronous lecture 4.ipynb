{
 "cells": [
  {
   "cell_type": "markdown",
   "metadata": {},
   "source": [
    "Asynchronous class 4: Feb 1, 2021\n",
    "============================\n",
    "\n",
    "Today's asynchronous lecture takes us on a tour of the Earth's atmosphere and the Sun, and introduces the internal energy equation.\n",
    "\n",
    "# Lecture\n",
    "For our first asynchronous class, please watch 5 youtube videos about heat conduction, the Earth and the Sun, and begin a series of lectures (2 today) on the internal energy equation.\n",
    "\n",
    "1. [Kramer Opacities: what if $K=K(\\rho, T)$](https://youtu.be/PEDDeg1R-EQ)\n",
    "2. [The Earth's atmosphere](https://youtu.be/aYQT0ucClag)\n",
    "3. [The Sun](https://youtu.be/NyGmS5mASE4)\n",
    "4. [Internal Energy Equation: part 1: Thermodynamics](https://youtu.be/H6-LHaTlYII)\n",
    "5. [Internal Energy Equation: part 2: Ideal gas](https://youtu.be/MqY8O5BDhNA)\n",
    "\n",
    "The content from lecture 2 \"Earth's atmosphere\" is based on the US Standard Atmosphere; you can read more at [Wikipedia](https://en.wikipedia.org/wiki/U.S._Standard_Atmosphere) or at the [NASA Technical Report server](https://ntrs.nasa.gov/citations/19770009539).\n",
    "\n",
    "The content from lecture 3 \"Inside the Sun\" is based on the [\"standard solar model\"](https://en.wikipedia.org/wiki/Standard_solar_model) for the interior.  This has been tested by helioseismology (helioseismologists tend to lean on an old model, [\"Model S\"](https://users-phys.au.dk/jcd/solar_models/), and you can read *much* more in Bahcall, Serenelli & Basu 2006 [\"10,000 Standard Solar Models: A Monte Carlo Simulation\"](https://ui.adsabs.harvard.edu/abs/2006ApJS..165..400B/abstract).  Their work is a tour-de-force.\n",
    "\n",
    "The structure of the solar atmosphere (above the photosphere) generally comes from what's called a \"VAL atmosphere\", and the most up-to-date version of that is in [Avrett & Loeser 2008, (see Table 26)](https://ui.adsabs.harvard.edu/abs/2008ApJS..175..229A/abstract)."
   ]
  },
  {
   "cell_type": "raw",
   "metadata": {},
   "source": [
    "\\newpage"
   ]
  },
  {
   "cell_type": "markdown",
   "metadata": {},
   "source": [
    "# Participation\n",
    "After watching these lectures, do the following:\n",
    "\n",
    "1. Choose either the Earth's atmosphere, the solar interior or the solar atmosphere.  \n",
    "    - Find profiles of T, $\\rho$ and P as functions of height, using the references above or your own sources.  \n",
    "    - Using python, plot T, $\\rho$ and P as functions of height.  You can use our RC jupyterlab resources to do this (create yourself a notebook; the dedalus kernel has matplotlib, scipy and numpy).\n",
    "    - Label your plot axes appropriately.\n",
    "    - Label a few different interesting regions.\n",
    "    - Note that you can export images from JupyterLab by dragging and dropping them from the web-browser to the desktop or to a browser tab, at least on Mac.\n",
    "    - Submit this image along with...\n",
    "\n",
    "\n",
    "\n",
    "2. Earth is the only terrestrial planet in our solar system that has a stratosphere.  The other rocky planets with substantial atmospheres (Venus, Mars) have deep tropospheres that link directly on to thermospheres.  Why is the Earth unique in this regard?\n",
    "\n",
    "**To Turn in**:\n",
    "Send Ben your answers to 1 & 2 via Canvas, uploading to Asynchronous Lecture 4.  Since you need to create a plot for part 1 using python, please submit via PDF.  That writeup can be in a jupyter notebook or via Latex, or whatever works for you.  Send it by noon, Tuesday Feb 2."
   ]
  }
 ],
 "metadata": {
  "kernelspec": {
   "display_name": "Python 3",
   "language": "python",
   "name": "python3"
  },
  "language_info": {
   "codemirror_mode": {
    "name": "ipython",
    "version": 3
   },
   "file_extension": ".py",
   "mimetype": "text/x-python",
   "name": "python",
   "nbconvert_exporter": "python",
   "pygments_lexer": "ipython3",
   "version": "3.8.2"
  }
 },
 "nbformat": 4,
 "nbformat_minor": 4
}
