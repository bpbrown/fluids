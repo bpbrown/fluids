{
 "cells": [
  {
   "cell_type": "markdown",
   "metadata": {},
   "source": [
    "Asynchronous class 7: Feb 10, 2021\n",
    "============================\n",
    "\n",
    "Today's asynchronous lecture takes us to understanding where vorticity comes from and how it evolves in simple systems.\n",
    "\n",
    "# Homework\n",
    "You're working on Homework 2 now, due tomorrow evening.  You should also have read Chapter 3 by today.  Homework 3 will post today, and will be due not next week, but some time after.  *heads-up*: homework 3 is long.\n",
    "\n",
    "# Lecture\n",
    "Please watch these youtube videos on vorticity:\n",
    "\n",
    "1. [How vorticity evolves (Euler equation)](https://youtu.be/M-N2v-0zep8)\n",
    "2. [Vorticity for barotropic fluids](https://youtu.be/DIZU8pEwwfk)\n",
    "3. [Implications of the vorticity equation](https://youtu.be/yLR4EledDn8)"
   ]
  },
  {
   "cell_type": "markdown",
   "metadata": {},
   "source": [
    "# Participation\n",
    "After watching these lectures, do the following:\n",
    "\n",
    "1. Walk outside and tell me about a fluid phenomena that you see in the atmosphere.  Is it in the troposphere or the stratosphere?  Describe what you see and speculate on what is going on.\n",
    "      \n",
    "2. Look for an example of fluid vorticity in your life around you.  Describe what you see and speculate on what is going on.\n",
    "\n",
    "**To Turn in**:\n",
    "Send Ben your answers to 1 & 2 via Canvas, uploading to Asynchronous Lecture 7.  Write a few sentences to a paragraph for each; include a picture if you want to and if it helps you describe things.  Please submit your text either in the text entry box or as a PDF, using any word processing program, including Jupyter notebooks.  Photos if any can be in the same PDF or uploaded separately.  Send by noon, Thursday Feb 11."
   ]
  }
 ],
 "metadata": {
  "kernelspec": {
   "display_name": "Python 3",
   "language": "python",
   "name": "python3"
  },
  "language_info": {
   "codemirror_mode": {
    "name": "ipython",
    "version": 3
   },
   "file_extension": ".py",
   "mimetype": "text/x-python",
   "name": "python",
   "nbconvert_exporter": "python",
   "pygments_lexer": "ipython3",
   "version": "3.8.2"
  }
 },
 "nbformat": 4,
 "nbformat_minor": 4
}
