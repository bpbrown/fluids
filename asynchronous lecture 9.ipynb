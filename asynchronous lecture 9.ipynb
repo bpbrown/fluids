{
 "cells": [
  {
   "cell_type": "markdown",
   "metadata": {},
   "source": [
    "Asynchronous class 9: Feb 22, 2021\n",
    "============================\n",
    "\n",
    "Today's asynchronous lecture takes us to tools for understanding and describing flows, especially steady flows (systems where $\\partial_t \\rightarrow 0$).\n",
    "\n",
    "# Homework\n",
    "You're working on your Homework 3.  Remember: don't put this off.\n",
    "\n",
    "# Lecture\n",
    "Please watch these videos on flow:\n",
    "\n",
    "1. [Ways to describe and visualize flow](https://youtu.be/hkF6B05ntvI)\n",
    "2. [Dye streaklines in flow around a wing](https://vimeo.com/243498999)\n",
    "3. [Bernoulli's Principle](https://youtu.be/v9Ru73FTUlY)"
   ]
  },
  {
   "cell_type": "markdown",
   "metadata": {},
   "source": [
    "# Participation\n",
    "\n",
    "1. Describe what you're seeing in the second video (Dye streaklines in flow around a wing).  How does the situation here differ from steady flow?  Where are vortices forming?  Are there times where the dye streaklines might not be showing you the actual underlying flow?  Write a paragraph or so.\n",
    "\n",
    "2. Typical service pressure for household water lines is about 50 psi.  In many communities, this water is served from large tanks on top of hills, using gravity to create the \"pressure head\" (pressure at the tap).  Using Bernoulli's principle, estimate how far up a hill the tank needs to be to provide 50 psi when the tap is first turned on.\n",
    "\n",
    "3. Some silly person accidentally puts a shovel through their water main line.  Assuming the line is pressurized to 50 psi, how fast does the water come out (velocity magnitude), and how tall is the resulting fountain of water?  Does this accord with your experiences?  If not, what do you think needs to be accounted for?\n",
    "    \n",
    "**To Turn in**:\n",
    "Send Ben your answers to 1-3 via Canvas, uploading to Asynchronous Lecture 9.  These can be done pencil and paper or typed up.  Send by noon, Tuesday Feb 23."
   ]
  }
 ],
 "metadata": {
  "kernelspec": {
   "display_name": "Python 3",
   "language": "python",
   "name": "python3"
  },
  "language_info": {
   "codemirror_mode": {
    "name": "ipython",
    "version": 3
   },
   "file_extension": ".py",
   "mimetype": "text/x-python",
   "name": "python",
   "nbconvert_exporter": "python",
   "pygments_lexer": "ipython3",
   "version": "3.8.6"
  }
 },
 "nbformat": 4,
 "nbformat_minor": 4
}
