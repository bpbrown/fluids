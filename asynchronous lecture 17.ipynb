{
 "cells": [
  {
   "cell_type": "markdown",
   "metadata": {},
   "source": [
    "Asynchronous class 17: March 31, 2021\n",
    "============================\n",
    "\n",
    "Today we learn about the linked concepts of decomposition and linearization.\n",
    "\n",
    "# Homework\n",
    "Keep thinking about your projects.  No assigned homework this week.\n",
    "\n",
    "# Lecture\n",
    "Please watch these videos on linearization techniques:\n",
    "\n",
    "1. [Calculus to algebra for linear PDEs via polynomial approximation (heat equation)](https://youtu.be/QM2e9gjmBAM)\n",
    "\n",
    "2. [Solving linear waves in constant coefficient systems using the determinant method (sound waves)](https://youtu.be/RPsWsPasWg8)\n",
    "\n",
    "3. [Solving linear waves by going to higher order](https://youtu.be/SX-VlWA8A4E)\n",
    "\n",
    "Please start reading Chapter 7 of Choudhuri (read 7.1, 7.2, 7.3, same as Monday, but read them for real now)."
   ]
  },
  {
   "cell_type": "raw",
   "metadata": {},
   "source": [
    "\\newpage"
   ]
  },
  {
   "cell_type": "markdown",
   "metadata": {},
   "source": [
    "# Participation\n",
    "\n",
    "\n",
    "Linear acoustic waves with rotation.\n",
    "\n",
    "Let's take the linearized fully compressible Euler equations from last time and add rotation.\n",
    "\n",
    "The full ideal Euler (no diffusion) equations for an ideal gas with rotation are:\n",
    "  \\begin{align}\n",
    "    \\frac{\\partial \\ln \\rho}{\\partial t} + \\vec{u}\\cdot\\vec{\\nabla}\\ln\\rho + \\vec{\\nabla}\\cdot\\vec{u} &= 0 \\label{eq: continuity}\\\\\n",
    "    \\frac{\\partial \\vec{u}}{\\partial t} + \\vec{u}\\cdot\\vec{\\nabla}\\vec{u} +2\\vec{\\Omega}\\times\\vec{u} + \\vec{\\nabla}(R T) + R T \\vec{\\nabla} \\ln \\rho &= \\vec{g} \\label{eq: momentum}\\\\\n",
    "    \\frac{\\partial T}{\\partial t} + \\vec{u}\\cdot\\vec{\\nabla} T + (\\gamma -1) T \\vec{\\nabla}\\cdot\\vec{u} &= 0 \\label{eq: temperature}\n",
    "  \\end{align}\n",
    "where $\\gamma$ is the ideal gas ratio of specific heats, $R$ is the gas constant, and $\\vec{g}$ is gravity.\n",
    "\n",
    "If as last time we assume a decomposition with form:\n",
    "\\begin{align}\n",
    "    \\ln \\rho &= \\ln \\rho_0 + \\ln \\rho_1 \\label{eq: lnrho} \\\\\n",
    "    \\vec{u} &= 0 + \\vec{u_1} \\label{eq: u}\\\\\n",
    "    T &= T_0 + T_1 \\label{eq: T}\n",
    "\\end{align}\n",
    "with $u_1, T_1, \\ln \\rho_1 \\sim \\mathcal{O}(\\epsilon)$ and $\\epsilon << 1$, and if we assume that $T_0$ and $\\ln\\rho_0$ are constant in time and space, we obtain these linearized equations:\n",
    "\n",
    "\\begin{align}\n",
    "    \\frac{\\partial \\ln \\rho_1}{\\partial t} + \\vec{\\nabla}\\cdot\\vec{u_1} &= 0 \\\\\n",
    "    \\frac{\\partial  \\vec{u_1}}{\\partial t} +2\\vec{\\Omega}\\times\\vec{u_1} + R\\vec{\\nabla}T_1 + R T_0 \\vec{\\nabla} \\ln \\rho_1 &= 0 \\\\\n",
    "    \\frac{\\partial T_1}{\\partial t} + (\\gamma -1) T_0 \\vec{\\nabla}\\cdot\\vec{u_1} &= 0\n",
    "\\end{align}\n",
    "     \n",
    "Assume the following 2-d velocity field: \n",
    "\\begin{equation}\n",
    "   \\vec{u} = u \\hat{x} + v \\hat{y}\n",
    "\\end{equation}\n",
    "and rotation vector\n",
    "\\begin{equation}\n",
    "   \\vec{\\Omega} = \\Omega_0 \\hat{z}\n",
    "\\end{equation}\n",
    "where all perturbations take the functional form:\n",
    "\\begin{equation}\n",
    "    u, v, T_1, \\ln \\rho_1 \\propto e^{i\\omega t - i m x - i n y}\n",
    "\\end{equation}\n",
    "\n",
    "   1. Write down the resulting 4x4 matrix.\n",
    "\n",
    "   2. Find the dispersion relationship for this system.  Use whatever technique or tools you need to; I'd suggest the determinant method.  You are seeking a solution to $\\omega = f(k)$, but it's often convenient to present as $\\omega^2 = g(k)$.\n",
    "\n",
    "   3. Compare this to the dispersion relationship for non-rotating sound waves, as presented in the video lectures above.  What's changed?  When would you expect rotation to make a substantial difference to acoustic waves?\n",
    "      \n",
    "The system in Q2 has one family of waves (acoustic waves) modified by rotation.\n",
    "\n",
    "**To Turn in**:\n",
    "Send Ben your answers to 1-3 via Canvas, uploading to Asynchronous Lecture 17.  You can do on pen & paper, or latex (including in an ipynb) and send as PDF.  Please send by noon, Thursday April 1."
   ]
  }
 ],
 "metadata": {
  "kernelspec": {
   "display_name": "Python 3",
   "language": "python",
   "name": "python3"
  },
  "language_info": {
   "codemirror_mode": {
    "name": "ipython",
    "version": 3
   },
   "file_extension": ".py",
   "mimetype": "text/x-python",
   "name": "python",
   "nbconvert_exporter": "python",
   "pygments_lexer": "ipython3",
   "version": "3.8.6"
  }
 },
 "nbformat": 4,
 "nbformat_minor": 4
}
