{
 "cells": [
  {
   "cell_type": "markdown",
   "metadata": {},
   "source": [
    "Asynchronous class 24: April 26, 2021\n",
    "==============================\n",
    "\n",
    "Let's bit about rotating fluid dynamics before our last live class on Wednesday.  Rotation, a seemingly simple change, introduces paradoxical affects like the Taylor-Proudman theorem, which causes \"spooky action at a distance\"."
   ]
  },
  {
   "cell_type": "markdown",
   "metadata": {},
   "source": [
    "# Homework\n",
    "No written homework.  You're reading two things this week:\n",
    "1. Chodhuri chapter 9 (\"Rotation and hydrodynamics\")\n",
    "2. Chandrasekhar chapter 2 (\"The effect of rotation\")\n",
    "\n",
    "You're also working on your final projects.  If you're doing a recorded talk ahead of time, plan to have them uploaded to youtube no later than evening of Saturday May 1.  Keep them to 5 minutes.  We'll talk some on Wednesday about the structure of our last meeting, Sunday May 2, 1:30-4pm (Mountain time)."
   ]
  },
  {
   "cell_type": "markdown",
   "metadata": {},
   "source": [
    "# Lecture\n",
    "\n",
    "## Part 1: Preparing for class on Wednesday\n",
    "\n",
    "I want you to have these four things with you for class Wednesday.\n",
    "\n",
    "1. A bowl, measuring cup or coffee cup.  Transparent is best, or light colored is second best.  As flat-bottomed and straight-sided as possible is best.  I suggest a 2- or 4-cup, transparent, flat-bottomed, straight-sided liquid measuring cup if you can (that's what I'll have).  A bucket also works, and so (probably) does a Mason jar.\n",
    "\n",
    "2. Water to fill said cup about 2/3 full.\n",
    "\n",
    "3. A passive tracer to put in the flow.  I suggest loose-leaf tea.  Ground coffee may also work.  You want something where some of it will fall to the bottom of the bowl, and if some of it also floats at the top, bonus.\n",
    "\n",
    "4. A spoon to stir the water in your bowl.\n",
    "\n",
    "In a pinch, bring a cup of brewed tea with the bits of tea leaves (the lees) in the bottom.  It'll probably work.  But don't drink it until we do our experiment in class.  Brewed coffee is harder.  My coffee, at least, is too opaque to see through and see what I want to show you.\n",
    "\n",
    "We're going to answer two questions:\n",
    "1. Why do buckets of water spin down so much faster than viscous timescale calculations alone would predict?\n",
    "2. Why do your tea leaves gather in the center of your cup when you contemplatively swirl your cup of tea?"
   ]
  },
  {
   "cell_type": "markdown",
   "metadata": {},
   "source": [
    "## Part 2: General fluids education\n",
    "\n",
    "1. Go watch this video about the [Taylor-Proudman Theorem](https://www.youtube.com/watch?v=7GGfsW7gOLI) created by UCLA SPINLab by Jon Aurnou and his students (4 min). \n",
    "\n",
    "2. Go watch [The Full Monty: Laboratory Demonstrations of Planetary Style fluid dynamics](https://www.youtube.com/watch?v=S0_-uITuxYQ&t) by SPINLab (30 min).\n",
    "\n",
    "3. Go watch [Does water swirl the other way in the Southern Hemisphere](https://www.youtube.com/watch?v=mXaad0rsV38) by Veritasium and Smarter Every Day (6 min).\n",
    "\n",
    "4. Read Chapter 9 of Choudhuri (if you haven't) and Section 2 of Chandrasehkar (if you haven't).\n",
    "\n",
    "**Question 1:** What was the most surprising thing you learned from these movies or reading?\n",
    "\n"
   ]
  },
  {
   "cell_type": "raw",
   "metadata": {},
   "source": [
    "\\renewcommand{\\vec}{\\boldsymbol}"
   ]
  },
  {
   "cell_type": "markdown",
   "metadata": {},
   "source": [
    "$\\renewcommand{\\vec}{\\boldsymbol}$\n",
    "\n",
    "## Part 3: The Taylor-Proudman Theorem at the Earth and the Sun\n",
    "\n",
    "\n",
    "### Taylor-Proudman Theorm\n",
    "The Taylor-Proudman theorem is one of the more surprising outcomes of adding rotation to a system.  When the fluid motions in a rotating system are slow (e.g., the Rossby number is $\\ll 1$), change slowly ($\\partial/\\partial t \\sim 0$, and viscous effects are unimportant, the momentum equation reduces to:\n",
    "\\begin{align}\n",
    "    2\\vec{\\Omega}\\times\\vec{\\omega} = \\frac{\\vec{\\nabla}\\rho\\times\\vec{\\nabla{P}}} {\\rho^2}.\n",
    "\\end{align}\n",
    "This is in vorticity form (we took the curl of the momentum equation).  If the motions are also nearly incompressible $(\\vec{\\nabla}\\cdot\\vec{u} \\sim 0$), this simplifies further to:\n",
    "\\begin{align}\n",
    "    -2\\vec{\\Omega}\\cdot\\vec{\\nabla}\\vec{u} = \\frac{\\vec{\\nabla}\\rho\\times\\vec{\\nabla{P}}} {\\rho^2}.\n",
    "\\end{align}\n",
    "We did this using vectory identity (11) from the NRL formulary.\n",
    "\n",
    "Often, the right-hand side is zero.  For instance, if hydrostatic equilbrium is our only source of stratification, then the gradients of $\\rho$ and $P$ are parallel, we call the system \"barotropic,\" and the RHS is zero.  If it's not zero we call the system \"baroclinic,\" and those systems have a host of interseting properties (see below).  For now, we'll assume we have a barotropic system and our balance reduces to this:\n",
    "\\begin{align}\n",
    "    \\vec{\\Omega}\\cdot\\vec{\\nabla}\\vec{u} = 0,\n",
    "\\end{align}\n",
    "or, since the rotation is typically taken to point in the $\\vec{\\Omega} = \\Omega \\vec{\\hat{z}}$ direction, with $\\vec{\\hat{z}} = \\cos\\theta\\vec{\\hat{r}} - \\sin\\theta\\vec{\\hat{\\theta}}$:\n",
    "\\begin{align}\n",
    "    \\Omega\\frac{\\partial \\vec{u}}{\\partial z} = 0,\n",
    "\\end{align}\n",
    "and, since we can assume $\\Omega \\neq 0$ if we're talking about rotation,\n",
    "\\begin{align}\n",
    "    \\frac{\\partial \\vec{u}}{\\partial z} = 0.\n",
    "\\end{align}\n",
    "There's no change in the velocities $\\vec{u}$ along the direction parallel with the rotation axis.  This leads to some seriously odd effects.\n",
    "\n",
    "**Question 2:** If we consider rotationally constrained winds on our planet flowing over Long's Peak mountain here in Colorado, at what angle with respect to the surface would we expect to see a \"shadow\" of the mountain imprinted on the winds aloft?\n"
   ]
  },
  {
   "cell_type": "markdown",
   "metadata": {},
   "source": [
    "\n",
    "\n",
    "### The inside of the Sun (early theory)\n",
    "The Sun has an observed differential rotation at it's surface $\\vec{u} = u_\\phi(\\theta)\\vec{\\hat{\\phi}}$.  \n",
    "A reasonably good approxmation to the surface differential rotation flow is given by $u_\\phi(\\theta) = \\omega(\\theta) s$ with $\\omega$ the angular rotation rate and $s$ the cylindrical radius, and with\n",
    "\\begin{align}\n",
    "\\omega(\\theta) = A + B \\sin^2(\\theta) + C \\sin^4(\\theta)\n",
    "\\end{align}\n",
    "and typical values of $A\\approx 14.7$, $B\\approx-2.4$, and $C\\approx-1.8$ all in $^\\circ/d$ and taken from this Wikipedia page on [Solar Rotation](https://en.wikipedia.org/wiki/Solar_rotation) (this is incidentally called the \"Snodgrass rotation rate\"; Herschel Snodgrass was my introduction to Solar physics during a summertime research experience).\n",
    "\n",
    "\n",
    "**Question 3:** Given what you have learned, and what we know about the Taylor-Proudman theorem,\n",
    "\\begin{align}\n",
    "    \\vec{\\Omega} \\cdot \\vec{\\nabla} \\vec{u} = 0\n",
    "\\end{align}\n",
    "explain why early solar astronomers assumed that the rotation of the interior of the Sun would be constant on cylinders.  Draw (or plot) what this would look like.   \n",
    "\n",
    "\n"
   ]
  },
  {
   "cell_type": "markdown",
   "metadata": {},
   "source": [
    "### The inside of the Sun (observed reality)\n",
    "The actual interior rotation of the Sun is not constant on cylinders, and is instead more nearly constant on radial lines or on conic sections.  This was a great surprise.  We only found out by looking inside the Sun using Helioseismology, and we still struggle to explain why this is so.\n",
    "\n",
    "Here is a current solar differential rotation profile, using data from HMI on the Solar dynamics observatory (data from [Larson & Schou (2018)](https://ui.adsabs.harvard.edu/abs/2018SoPh..293...29L/abstract) and freely available [here](https://link.springer.com/article/10.1007/s11207-017-1201-5#Sec15))  \n",
    "![HMI observed differential rotation profile of the Sun](differential_rotation.png \"HMI observed differential rotation profile of the Sun\")\n",
    "\n",
    "Shown is the angular velocity $\\omega$, with the colorbar in nHz, the North pole at top ($90^\\circ$) and the equator at bottom ($0^\\circ$).  Only one hemisphere is shown because the waves used to make these measurements cause the measured quantity to be symmetric about the equator.  No one knows exactly why the profile takes this form, but one suggestion is that there is a thermal wind in the Sun.  \n",
    "\n",
    "A thermal wind is the first generalization of the Taylor-Proudman theorem, to the case where there there are gradients of pressure and density:\n",
    "\\begin{align}\n",
    "    \\vec{\\Omega} \\cdot \\vec{\\nabla} \\vec{u} = - \\frac{1}{2}\\frac{\\vec{\\nabla}\\rho \\times \\vec{\\nabla}P}{\\rho^2}\n",
    "\\end{align}\n",
    "where this baroclinic term on the RHS comes from taking the curl of the momentum equation (and is the same one we saw when first deriving the vorticity equation).  This form of the equation, with a non-zero RHS, is often called \"thermal-wind balance\".\n",
    "\n",
    "On the Earth, the thermal wind arises from external driving by the Sun.  Because the equatorial regions recieve more sunlight (higher flux) than the poles, the equator is warm and the poles are cool.  This drives the jet stream at mid-latitudes, and since Colorado sits right at mid-latitudes, this also explains (in part) why Colorado has such wild weather.\n",
    "\n",
    "Since this is the first departure from Taylor-Proudman, maybe thermal wind effects help explain why the interior of the Sun isn't in Taylor-Proudman balance (constant on cylinders).  In the Sun, the thermal wind arises internally.  Our best thoughts are that rotational constraint on convection causes the convection to transport heat not only vertically but also in the north/south (latitudinal) direction.  The balances are tricky and we're not completely sure on the magnitude of the effect, but thermal-wind balances are a typical feature of most global-scale simulations of solar-like convection.\n",
    "\n",
    "To get a sense for how this heat flow might work in the Sun, let's use the observed differential rotation profile above.  For the solar differential rotation, with $\\vec{u}=\\omega s \\vec{\\hat{\\phi}}$, thermal-wind balance becomes:\n",
    "\\begin{align}\n",
    "     \\Omega \\frac{\\partial}{\\partial z} \\omega(s,z) \\vec{\\hat{\\phi}} = - \\frac{1}{2}\\frac{1}{s} \\frac{\\vec{\\nabla}\\rho \\times \\vec{\\nabla}P}{\\rho^2}\n",
    "\\end{align}\n",
    "and where I've moved to cylindrical coordinates in my expression of $\\omega$, with $s = r \\sin \\theta$ the cylindrical radius and $z$ the \"parallel-to-the-rotation-axis\" coordinate.  For the next part, take a visual gradient of $\\omega$ to answer the question.\n",
    "\n",
    "\n",
    "**Question 4:** Assuming that the sun is an ideal gas ($P= R T \\rho$), and assuming that the density varies only with radius $\\rho=\\rho(r)$, with $\\partial_r \\rho <0$ from hydrostatic balance, while the temperature varies with both co-latitude and radius $T=T(\\theta, r)$, what is the qualitative character of the latitudinal temperature profile that would be consistent with the observed departure from cylindrical angular velocity profiles?  Namely, would you expect that the poles are hotter or cooler than equator?  Remember that the co-latitude $\\theta$ in $\\partial/\\partial \\theta$ runs from the North pole ($\\theta=0$ there) to the equator ($\\theta=\\pi/2$ there).  \n",
    "\n",
    "The resulting thermal-wind-balance temperature profile would be a few degrees Kelvin in amplitude and has never been conclusively observed, though many have tried. "
   ]
  },
  {
   "cell_type": "markdown",
   "metadata": {},
   "source": [
    "**To Turn in**:\n",
    "Send Ben your answers to Questions 1-4 via Canvas, uploading to Asynchronous Lecture 24.  You can do that in this ipynb and upload as an ipynb.  You can also export to PDF if you prefer.  Please send by midnight, Tuesday April 27."
   ]
  }
 ],
 "metadata": {
  "kernelspec": {
   "display_name": "Python 3",
   "language": "python",
   "name": "python3"
  },
  "language_info": {
   "codemirror_mode": {
    "name": "ipython",
    "version": 3
   },
   "file_extension": ".py",
   "mimetype": "text/x-python",
   "name": "python",
   "nbconvert_exporter": "python",
   "pygments_lexer": "ipython3",
   "version": "3.8.6"
  }
 },
 "nbformat": 4,
 "nbformat_minor": 2
}
