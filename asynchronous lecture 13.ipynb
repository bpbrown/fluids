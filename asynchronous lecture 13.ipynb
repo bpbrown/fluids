{
 "cells": [
  {
   "cell_type": "markdown",
   "metadata": {},
   "source": [
    "Asynchronous class 13: March 8, 2021\n",
    "============================\n",
    "\n",
    "Today we learn more about viscosity and obtain our first solution to viscous flow.\n",
    "\n",
    "# Homework\n",
    "No homework right now; homework 4 comes on Wednesday.\n",
    "\n",
    "# Lecture\n",
    "Please watch these videos on flow:\n",
    "\n",
    "1. [Deriving the viscous stress tensor](https://youtu.be/tiGKSAj2pfA)\n",
    "2. [The second coefficient of viscosity ζ (or $\\mu_B$)](https://youtu.be/dPoDcUMutSQ)\n",
    "2. [Poiseuille flow](https://youtu.be/f55jsNlMaoQ)\n",
    "\n",
    "Incidentally, the \"poise\" (unit of SI viscosity) is named after Poiseuille."
   ]
  },
  {
   "cell_type": "markdown",
   "metadata": {},
   "source": [
    "# Participation\n",
    "\n",
    "1. In lecture 1, I assert that $e_{ij}$ is the \"pure shear\" part of the expansion of $\\partial u_i/\\partial x_j$ while the other term is pure rotation.  Show this by substituting a pure rotational flow $u_i = \\epsilon_{ikl}\\Omega_k x_l$ and showing that $e_{ij}$ vanishes and that the other term is pure rotation.\n",
    "\n",
    "2. Solve Poiseuille flow in a pipe of radius $a$.  Find $u(r)$ and the mass flux:\n",
    "    \\begin{equation}\n",
    "        Q = \\int_0^a \\rho u(r) 2 \\pi r dr\n",
    "    \\end{equation}\n",
    "    Chapter 5 of Choudhuri may help.\n",
    "    \n",
    "3. Solve Poiseuille flow in a plane-parallel channel of height $h$, as we drew in lecture 1.  Find $u(y)$ and the mass flux:\n",
    "    \\begin{equation}\n",
    "        Q = \\int_0^h \\rho u(y) dy\n",
    "    \\end{equation}\n",
    "    It can be convenient to go either from y=[0,h] or y=[-h/2,h/2].  Choose one.\n",
    "\n",
    "**To Turn in**:\n",
    "Send Ben your answers to 1-3 via Canvas, uploading to Asynchronous Lecture 13.  Send by noon, Tuesday March 9."
   ]
  }
 ],
 "metadata": {
  "kernelspec": {
   "display_name": "Python 3",
   "language": "python",
   "name": "python3"
  },
  "language_info": {
   "codemirror_mode": {
    "name": "ipython",
    "version": 3
   },
   "file_extension": ".py",
   "mimetype": "text/x-python",
   "name": "python",
   "nbconvert_exporter": "python",
   "pygments_lexer": "ipython3",
   "version": "3.8.6"
  }
 },
 "nbformat": 4,
 "nbformat_minor": 4
}
