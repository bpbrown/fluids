{
 "cells": [
  {
   "cell_type": "markdown",
   "metadata": {},
   "source": [
    "Asynchronous class 1: Jan 20, 2021\n",
    "============================\n",
    "\n",
    "Our asynchronous days will be a mixture of watching things and doing things.  First we're going to become familiar with some equations and some math.\n",
    "\n",
    "# Lecture\n",
    "For our first asynchronous class, please watch 3 youtube videos about the Euler momentum equation, Lagrangian deriviatives, and the continuity equation.\n",
    "\n",
    "1. [Euler momentum equation](https://youtu.be/2cizyI6y9pY)\n",
    "2. [Lagrangian derivatives and advection](https://youtu.be/NQUB8v86fmo)\n",
    "3. [Scalar transport and continuity](https://youtu.be/coB55rMxdQg)\n",
    "\n",
    "\n",
    "# Participation\n",
    "After watching these lectures, solve this problem.\n",
    "\n",
    "Use the Eularian momentum equation:\n",
    "\\begin{equation}\n",
    "    \\rho \\frac{\\partial \\vec{u}}{\\partial t} + \\rho \\vec{u}\\cdot\\vec{\\nabla} \\vec{u} = -\\vec{\\nabla} P\n",
    "\\end{equation}\n",
    "and the continuity equation:\n",
    "\\begin{equation}\n",
    "    \\frac{\\partial \\rho}{\\partial t} + \\vec{u}\\cdot\\vec{\\nabla} \\rho + \\rho \\vec{\\nabla}\\cdot\\vec{u} = 0\n",
    "\\end{equation}\n",
    "to re-write the momentum equation in conservative form.  E.g., manipulate it until it takes the form\n",
    "\\begin{equation}\n",
    "    \\frac{\\partial \\rho \\vec{u}}{\\partial t} + \\vec{\\nabla}\\cdot(\\ldots) = \\ldots\n",
    " \\end{equation}\n",
    "Filling in the $\\ldots$ is your job.  To do this, think \"add zero to both sides, in a clever way\".\n",
    "\n",
    "**To Turn in**: Send Ben your answer via Canvas, uploading to Asynchronous Lecture 1.  You can send a PDF, or you can work this out on paper and send a picture.  Whatever works for you.  Send it by noon, Thursday Jan 21."
   ]
  }
 ],
 "metadata": {
  "kernelspec": {
   "display_name": "Python 3",
   "language": "python",
   "name": "python3"
  },
  "language_info": {
   "codemirror_mode": {
    "name": "ipython",
    "version": 3
   },
   "file_extension": ".py",
   "mimetype": "text/x-python",
   "name": "python",
   "nbconvert_exporter": "python",
   "pygments_lexer": "ipython3",
   "version": "3.7.6"
  }
 },
 "nbformat": 4,
 "nbformat_minor": 4
}
