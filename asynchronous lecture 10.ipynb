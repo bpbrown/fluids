{
 "cells": [
  {
   "cell_type": "markdown",
   "metadata": {},
   "source": [
    "Asynchronous class 10: Feb 24, 2021\n",
    "============================\n",
    "\n",
    "Today's asynchronous lecture takes us to more tools for understanding and describing flows, here both irrotational and incompressible, and linkages between the two.\n",
    "\n",
    "# Homework\n",
    "You're working on your Homework 3.  I know; you've heard this before.  But seriously: don't put this off.\n",
    "\n",
    "# Lecture\n",
    "Please watch these videos on flow:\n",
    "\n",
    "1. [Connections between streamfunctions and streamlines](https://youtu.be/X1LA5E_ry9U)\n",
    "2. [Potential flows (good for irrotational flow)](https://youtu.be/O4LBBXysFMo)\n",
    "3. [Combining streamfunctions with velocity potentials](https://youtu.be/HTBSxKJ8wwg)\n",
    "4. [Kelvin-Helmholtz instabilities](https://vimeo.com/187121815)"
   ]
  },
  {
   "cell_type": "markdown",
   "metadata": {},
   "source": [
    "# Participation\n",
    "\n",
    "1. Describe what you're seeing in the last video (Kelvin-Helmholtz instabilities).  This is a classic shear instability.  This video comes from [Lecoanet et al 2016](https://ui.adsabs.harvard.edu/abs/2016MNRAS.455.4274L/abstract), a copy of which is available on Canvas.\n",
    "\n",
    "2. Uniform flow of an ideal fluid around a cylinder of radius $a$ can be represented by the complex potential:\n",
    "\\begin{equation}\n",
    "    f(z) = U_0 \\left(z + \\frac{a^2}{z}\\right) = \\phi + i \\psi\n",
    "\\end{equation}\n",
    "where $U_0$ is the flow far from the cylinder, and $\\phi$ and $\\psi$ are the 2-d potential and streamfunctions respectively.  Plot the streamlines of this flow and plot the velocity potential of this flow.\n",
    "\n",
    "3. Why do planes fly?\n",
    "\n",
    "4. Why do accretion disks glow?\n",
    "\n",
    "**To Turn in**:\n",
    "Send Ben your answers to 1-4 via Canvas, uploading to Asynchronous Lecture 10.  These can be done pencil and paper or typed up.  Send by noon, Thursday Feb 25."
   ]
  }
 ],
 "metadata": {
  "kernelspec": {
   "display_name": "Python 3",
   "language": "python",
   "name": "python3"
  },
  "language_info": {
   "codemirror_mode": {
    "name": "ipython",
    "version": 3
   },
   "file_extension": ".py",
   "mimetype": "text/x-python",
   "name": "python",
   "nbconvert_exporter": "python",
   "pygments_lexer": "ipython3",
   "version": "3.8.6"
  }
 },
 "nbformat": 4,
 "nbformat_minor": 4
}
