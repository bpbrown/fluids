{
 "cells": [
  {
   "cell_type": "markdown",
   "metadata": {},
   "source": [
    "Asynchronous class 12: March 3, 2021\n",
    "============================\n",
    "\n",
    "Today we introduce viscosity.\n",
    "\n",
    "# Homework\n",
    "Homework 3 is due today.  Homework 4 will come out by this evening, due next week.\n",
    "\n",
    "# Lecture\n",
    "Please watch these videos on flow:\n",
    "\n",
    "1. [Navier-Stokes: adding viscosity to the Euler equations](https://youtu.be/9e8uSPFyup8)\n",
    "2. [Simplifications when dynamics viscosity $\\mu$ is constant](https://youtu.be/Td1Z_jVeAjo)\n",
    "2. [Dimensions of viscosity](https://youtu.be/L7b5yCmZWjA)\n"
   ]
  },
  {
   "cell_type": "raw",
   "metadata": {},
   "source": [
    "\\newpage"
   ]
  },
  {
   "cell_type": "markdown",
   "metadata": {},
   "source": [
    "# Participation\n",
    "\n",
    "1. Find the value of viscosity for air (both $\\nu$ and $\\mu$) under typical (STP) conditions.  How do these vary with $\\rho$ and $T$?  What about the Prandtl number?\n",
    "\n",
    "2. Find the value of viscosity for water (both $\\nu$ and $\\mu$) under typical (STP) conditions.  How do these vary with $\\rho$ and $T$?  What about the Prandtl number?\n",
    "\n",
    "3. Comment on the differences in viscosity for gasses versus liquids.\n",
    "\n",
    "4. In lecture we learned about Newtonian viscosities, where $\\mu = \\mu(\\rho, T)$.  Non-newtonian viscosities are surprisingly common in fluids we interact with on a daily basis.  The most common non-Newtonian fluids have viscosities that depend on velocity $\\mu = \\mu(u)$.  The two classic cases are \"shear-thinning\" and \"shear-thickening\" fluids.\n",
    "    - find an example of a shear-thinning fluid.  Tell me a bit about it's properties and why shear-thinning might be a desireable property.\n",
    "    - find an example of a shear-thickening fluid.  Tell me a bit about it's properties and why shear-thickening might be a desireable property.\n",
    "    - what is similar in both shear thinning and thickening fluids, that is different from the simple, single fluids we have considered so far?\n",
    "\n",
    "5. Before Friday's class:\n",
    "    - Find a fan blade in your house and take a good look at it.  Bring it to class if you can.  Think about what you're seeing.\n",
    "    - Find or purchase the following ingredients:\n",
    "       - Corn starch or corn flour (white) (~2 cups)\n",
    "       - water (~1 cup)\n",
    "       - a bowl to mix in\n",
    "       - a quart or gallon ziplock bag\n",
    "       - food coloring if you're feeling fancy\n",
    "\n",
    "**To Turn in**:\n",
    "Send Ben your answers to 1-4 via Canvas, uploading to Asynchronous Lecture 11.  Please type up 1-4 (about a paragraph each; please include some plots for 1 and 2 to illustrate the viscosity and Prandtl number dependence on $T$).  Send by noon, Thursday March 4."
   ]
  }
 ],
 "metadata": {
  "kernelspec": {
   "display_name": "Python 3",
   "language": "python",
   "name": "python3"
  },
  "language_info": {
   "codemirror_mode": {
    "name": "ipython",
    "version": 3
   },
   "file_extension": ".py",
   "mimetype": "text/x-python",
   "name": "python",
   "nbconvert_exporter": "python",
   "pygments_lexer": "ipython3",
   "version": "3.8.6"
  }
 },
 "nbformat": 4,
 "nbformat_minor": 4
}
