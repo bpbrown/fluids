{
 "cells": [
  {
   "cell_type": "markdown",
   "metadata": {},
   "source": [
    "Asynchronous class 14: March 10, 2021\n",
    "============================\n",
    "\n",
    "Today is all about non-dimensionalization.\n",
    "\n",
    "# Homework\n",
    "Homework 4 will be assigned today, due next Wednesday.\n",
    "\n",
    "# Lecture\n",
    "Please watch these videos on non-dimensionalization:\n",
    "\n",
    "1. [Non-dimensionalization: the diffusion equation, a one-term system](https://youtu.be/T59CcuY72vE)\n",
    "2. [Non-dimensionalization: the advection-diffusion equation, a two-term system](https://youtu.be/s-MZaXzECv8)\n",
    "2. [Non-dimensionalization: Rayleigh-Benard equations, a coupled system](https://youtu.be/M6eaMf2OIzI)"
   ]
  },
  {
   "cell_type": "markdown",
   "metadata": {},
   "source": [
    "# Participation\n",
    "\n",
    "1. Consider the advection-diffusion-reaction equation (a simple model for chemistry):\n",
    "\\begin{equation}\n",
    "\\frac{\\partial}{\\partial t} c + \\vec{u}\\cdot\\vec{\\nabla}c = D \\nabla^2 c + R(c_{eq} - c)\n",
    "\\end{equation}\n",
    "with reaction coefficient $R$, equilbrium concentration $c_{eq}$, governing chemical concentration $c$. This is an idealized model for the reaction of a low-concentration constituent with a dominant background resevoir (see [Bordwell et al 2018](https://iopscience.iop.org/article/10.3847/1538-4357/aaa551)).  Non-dimensionalize this system.  What are the non-dimensional numbers?\n",
    "\n",
    "2. Consider the Rayleigh-Benard equations, as we did in lecture:\n",
    "    \\begin{align}\n",
    "\\vec{\\nabla}\\cdot\\vec{u} &= 0 \\\\\n",
    "\\frac{\\partial}{\\partial t} T + \\vec{u}\\cdot\\vec{\\nabla}T &= \\chi \\nabla^2 T\\\\\n",
    "\\frac{\\partial}{\\partial t} \\vec{u} + \\vec{u}\\cdot\\vec{\\nabla}\\vec{u} &= -\\vec{\\nabla}\\varpi + \\alpha g T \\vec{\\hat{z}} + \\nu \\nabla^2 \\vec{u}\n",
    "    \\end{align}\n",
    "    Following the approach in lecture, non-dimensionalize these on the buoyancy (free-fall) timescale, \n",
    "\\begin{equation}\n",
    "    \\tau_\\mathrm{ff}=\\sqrt{\\left(\\frac{L}{\\alpha T_c g}\\right)}\n",
    "\\end{equation}\n",
    "What are the resulting equations and non-dimensional numbers?  Relate these to the Rayleigh number:\n",
    "\\begin{equation}\n",
    "    Ra = \\frac{\\alpha T_c g L^3}{\\nu \\chi}\n",
    "\\end{equation}\n",
    "\n",
    "3. Consider the Rayleigh-Benard equations in a rotating reference frame:\n",
    "    \\begin{align}\n",
    "\\vec{\\nabla}\\cdot\\vec{u} &= 0 \\\\\n",
    "\\frac{\\partial}{\\partial t} T + \\vec{u}\\cdot\\vec{\\nabla}T &= \\chi \\nabla^2 T\\\\\n",
    "\\frac{\\partial}{\\partial t} \\vec{u} + \\vec{u}\\cdot\\vec{\\nabla}\\vec{u} &= -\\vec{\\nabla}\\varpi + \\alpha g T \\vec{\\hat{z}} + \\nu \\nabla^2 \\vec{u} - 2 \\vec{\\Omega}\\times \\vec{u}\n",
    "    \\end{align}\n",
    "in a rotating reference frame $\\vec{\\Omega}=\\Omega_0\\vec{\\hat{\\Omega}}$.  Non-dimensionalize this system on several timescales:\n",
    "    - the rotation timescale $\\tau_\\Omega = 1/(2\\Omega_0)$\n",
    "    - the thermal diffusion timescale $\\tau_\\chi = L^2/\\chi$\n",
    "    - the viscous diffusion timescale $\\tau_\\nu = L^2/\\nu$\n",
    "    - the free-fall timescale $\\tau_\\mathrm{ff} = \\sqrt{(L/(\\alpha T_c g)}$\n",
    "For each, what are the equations and the non-dimensional numbers?\n",
    "\n",
    "\n",
    "Hint: develop a system for systematically applying these different choices.  You can use the same intermediate system in Q2 for all parts of Q3 (rotation is an additive term!).\n",
    "    \n",
    "\n",
    "**To Turn in**:\n",
    "Send Ben your answers to 1-3 via Canvas, uploading to Asynchronous Lecture 14.  Send by evening, Thursday March 11."
   ]
  }
 ],
 "metadata": {
  "kernelspec": {
   "display_name": "Python 3",
   "language": "python",
   "name": "python3"
  },
  "language_info": {
   "codemirror_mode": {
    "name": "ipython",
    "version": 3
   },
   "file_extension": ".py",
   "mimetype": "text/x-python",
   "name": "python",
   "nbconvert_exporter": "python",
   "pygments_lexer": "ipython3",
   "version": "3.8.6"
  }
 },
 "nbformat": 4,
 "nbformat_minor": 4
}
