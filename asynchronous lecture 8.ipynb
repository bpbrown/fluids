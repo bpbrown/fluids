{
 "cells": [
  {
   "cell_type": "markdown",
   "metadata": {},
   "source": [
    "Asynchronous class 8: Feb 15, 2021\n",
    "============================\n",
    "\n",
    "Today's asynchronous lecture takes us to a further understanding of vorticity's evolution in ideal, barotropic fluids.  This brings us to Kelvin's circulation theorm, which has implications for MHD (magnetohydrodynamics).\n",
    "\n",
    "# Wednesday Feb 17\n",
    "Wednesday Feb 17 is a health and wellness day; no class on Wednesday and no homework. \n",
    "\n",
    "# Homework\n",
    "Homework 3 will post today, and will be due not next week, but on Monday, March 1.  *heads-up*: homework 3 is longer.  Start now.\n",
    "\n",
    "# Lecture\n",
    "Please watch these youtube videos on vorticity:\n",
    "\n",
    "1. [Shear-stretching of vorticity](https://youtu.be/kYgKkOGFEZk)\n",
    "2. [Vorticity: frozen-in condition](https://youtu.be/f5GR4q2O0Ow)\n",
    "3. [Kelvin's circulation theorm](https://youtu.be/zXstN8zTHxs)"
   ]
  },
  {
   "cell_type": "raw",
   "metadata": {},
   "source": [
    "\\newpage"
   ]
  },
  {
   "cell_type": "markdown",
   "metadata": {},
   "source": [
    "# Participation\n",
    "After watching these lectures, consider the following basic flows:\n",
    "\n",
    "1. Linear shear:\n",
    "\\begin{equation}\n",
    "\\vec{u} = u_0 y \\hat{x}\n",
    "\\end{equation}\n",
    "\n",
    "2. Plane Poiseuille flow on $y=[-h/2, h/2]$:\n",
    "\\begin{equation}\n",
    "\\vec{u} = u_0 \\left(\\left(\\frac{h}{2}\\right)^2-y^2\\right) \\hat{x}\n",
    "\\end{equation}\n",
    "\n",
    "3. Solid body rotation:\n",
    "\\begin{equation}\n",
    "\\vec{u} = \\Omega R_0 \\frac{r}{R_0} \\hat{\\phi}\n",
    "\\end{equation}\n",
    "    \n",
    "4. An unusual vortex:\n",
    "\\begin{equation}\n",
    "\\vec{u} = \\Omega_0 R_0 \\frac{R_0}{r} \\hat{\\phi}\n",
    "\\end{equation}\n",
    "\n",
    "For each flow, do the following:\n",
    "   - Illustrate the velocity flow field\n",
    "   - Compute the vorticity $\\vec{\\omega} = \\vec{\\nabla} \\times \\vec{u}$\n",
    "   - Illustrate the vorticity field\n",
    "   - Describe the flow in a sentence or two.\n",
    "    \n",
    "**To Turn in**:\n",
    "Send Ben your answers to 1-4 via Canvas, uploading to Asynchronous Lecture 8.  These can be done pencil and paper or typed up.  Send by noon, Tuesday Feb 16."
   ]
  }
 ],
 "metadata": {
  "kernelspec": {
   "display_name": "Python 3",
   "language": "python",
   "name": "python3"
  },
  "language_info": {
   "codemirror_mode": {
    "name": "ipython",
    "version": 3
   },
   "file_extension": ".py",
   "mimetype": "text/x-python",
   "name": "python",
   "nbconvert_exporter": "python",
   "pygments_lexer": "ipython3",
   "version": "3.8.6"
  }
 },
 "nbformat": 4,
 "nbformat_minor": 4
}
