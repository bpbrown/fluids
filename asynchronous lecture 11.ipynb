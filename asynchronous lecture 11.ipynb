{
 "cells": [
  {
   "cell_type": "markdown",
   "metadata": {},
   "source": [
    "Asynchronous class 11: March 1, 2021\n",
    "============================\n",
    "\n",
    "Today let's go learn the difference between laminar and turbulent flows.\n",
    "\n",
    "# Homework\n",
    "Finish up homework 3.  Have you read chapter 5 of Choudhuri yet?\n",
    "\n",
    "# Lecture\n",
    "Please watch these videos on flow:\n",
    "\n",
    "1. [Smarter Every Day: Laminar flow is AWESOME](https://www.youtube.com/watch?v=y7Hyc3MRKno&t=7s)\n",
    "2. [Veritasium: Turbulent Flow is MORE Awesome Than Laminar Flow](https://www.youtube.com/watch?v=5zI9sG3pjVU&t=2s)"
   ]
  },
  {
   "cell_type": "raw",
   "metadata": {},
   "source": [
    "\\newpage"
   ]
  },
  {
   "cell_type": "markdown",
   "metadata": {},
   "source": [
    "# Participation\n",
    "\n",
    "1. Tell me what you learned about laminar flow.\n",
    "\n",
    "2. Tell me what you learned about turbulent flow.\n",
    "\n",
    "3. Which is more awesome?\n",
    "\n",
    "4. Go find a real-world example in the world around you of whichever you think is cooler, laminar or turbulent, and take a picture or movie or illustrate it yourself.  Tell me something about what you found.  Make the case that it's awesome.\n",
    "\n",
    "5. Let's practice non-dimensionalization.\n",
    "\n",
    "    Here's the viscous Navier-Stokes momentum equation for an incompressible flow when dynamic viscosity $\\mu=\\rho \\nu$ is constant:\n",
    "    \\begin{equation}\n",
    "    \\frac{\\partial}{\\partial t}\\vec{u} + \\vec{u}\\cdot\\vec{\\nabla}\\vec{u} = -\\frac{\\vec{\\nabla}P}{\\rho} + \\nu \\nabla^2 \\vec{u}\n",
    "    \\end{equation}\n",
    "    The kinematic viscosity $\\nu$ has units length$^2$/time, or velocity*length.\n",
    "    - non-dimensionalize this equation and write it in non-dimensional form.  \n",
    "    - What are the two non-dimensional parameters?\n",
    "    - What do these numbers tell you?\n",
    "   \n",
    "   Do your best.  We'll learn some tools for doing this, but I want to see where you get now.\n",
    "\n",
    "**To Turn in**:\n",
    "Send Ben your answers to 1-5 via Canvas, uploading to Asynchronous Lecture 11.  Please type up 1-4 (about a paragraph each), and 5 can be pencil and paper or typed up.  Send by noon, Tuesday March 2."
   ]
  }
 ],
 "metadata": {
  "kernelspec": {
   "display_name": "Python 3",
   "language": "python",
   "name": "python3"
  },
  "language_info": {
   "codemirror_mode": {
    "name": "ipython",
    "version": 3
   },
   "file_extension": ".py",
   "mimetype": "text/x-python",
   "name": "python",
   "nbconvert_exporter": "python",
   "pygments_lexer": "ipython3",
   "version": "3.8.6"
  }
 },
 "nbformat": 4,
 "nbformat_minor": 4
}
