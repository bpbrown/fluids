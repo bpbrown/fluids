{
 "cells": [
  {
   "cell_type": "markdown",
   "metadata": {},
   "source": [
    "Asynchronous class 16: March 29, 2021\n",
    "============================\n",
    "\n",
    "Today we learn about the linked concepts of decomposition and linearization.\n",
    "\n",
    "# Homework\n",
    "Keep thinking about your projects.\n",
    "\n",
    "# Lecture\n",
    "Please watch this video on low-Reynolds number flows:\n",
    "\n",
    "1. [Decomposition and Linerization of a single equation (heat equation)](https://youtu.be/mOmtGWDU_VI)\n",
    "\n",
    "2. [Linearizing a system of equations (Boussinesq equations)](https://youtu.be/sCCcUC2wqfQ)\n",
    "\n",
    "Please start reading Chapter 7 of Choudhuri (read 7.1, 7.2, 7.3)."
   ]
  },
  {
   "cell_type": "raw",
   "metadata": {},
   "source": [
    "\\newpage"
   ]
  },
  {
   "cell_type": "markdown",
   "metadata": {},
   "source": [
    "# Participation\n",
    "\n",
    "\n",
    "Linearized fully compressible equations (expected to take 15 min)\n",
    "\n",
    "We've been learning about linearizing equations.  Here, let's practice linearization on the fully compressible Euler equations.\n",
    "\n",
    "The full ideal Euler (no diffusion) equations for an ideal gas are:\n",
    "  \\begin{align}\n",
    "    \\frac{\\partial \\ln \\rho}{\\partial t} + \\vec{u}\\cdot\\vec{\\nabla}\\ln\\rho + \\vec{\\nabla}\\cdot\\vec{u} &= 0 \\label{eq: continuity}\\\\\n",
    "    \\frac{\\partial \\vec{u}}{\\partial t} + \\vec{u}\\cdot\\vec{\\nabla}\\vec{u} + \\vec{\\nabla}(R T) + R T \\vec{\\nabla} \\ln \\rho &= \\vec{g} \\label{eq: momentum}\\\\\n",
    "    \\frac{\\partial T}{\\partial t} + \\vec{u}\\cdot\\vec{\\nabla} T + (\\gamma -1) T \\vec{\\nabla}\\cdot\\vec{u} &= 0 \\label{eq: temperature}\n",
    "  \\end{align}\n",
    "where $\\gamma$ is the ideal gas ratio of specific heats, $R$ is the gas constant, and $\\vec{g}$ is gravity.\n",
    "\n",
    "Assume a decomposition with form:\n",
    "\\begin{align}\n",
    "    \\ln \\rho &= \\ln \\rho_0 + \\ln \\rho_1 \\label{eq: lnrho} \\\\\n",
    "    \\vec{u} &= 0 + \\vec{u_1} \\label{eq: u}\\\\\n",
    "    T &= T_0 + T_1 \\label{eq: T}\n",
    "\\end{align}\n",
    "with $u_1, T_1, \\ln \\rho_1 \\sim \\mathcal{O}(\\epsilon)$ and $\\epsilon << 1$.\n",
    "Note that there is no large-scale $\\vec{u_0}$, but there may be a large-scale $T_0$ and $\\ln \\rho_0$.\n",
    "Note also that it is the log-density that is decomposed, not the density itself (e.g., $\\ln \\rho_1 \\neq \\ln (\\rho_1)$).  This ends up being a handy trick.\n",
    "\n",
    "  \n",
    "   1. Write down these equations using the decomposition provided.\n",
    "      Gather terms linear in the fluctuations ($u_1$, $T_1$, $\\ln \\rho_1$) on the left hand side, and terms not linear in the fluctuations on the right hand side.\n",
    "\n",
    "   2. Write down the $\\mathcal{O}(1)$ balance equations, and the $\\mathcal{O}(\\epsilon)$ linear equations.\n",
    "    As a sanity check, the $\\mathcal{O}(1)$ balance equations should give you hydrostatic equilibrium.\n",
    "\n",
    "   3. Lastly, assume that $T_0$ and $\\ln \\rho_0$ are constant in both space and time (e.g., $T_0(z) = T_0$, a number).  Simplify the $\\mathcal{O}(\\epsilon)$ linear equations and write those down.\n",
    "   \n",
    "\n",
    "The system in Q1 has two families of waves (acoustic waves and internal gravity waves), while the system in Q3 has one family of waves (acoustic waves).  We will learn more about these soon.\n",
    "\n",
    "**To Turn in**:\n",
    "Send Ben your answers to 1-3 via Canvas, uploading to Asynchronous Lecture 16.  You can do on pen & paper, or latex (including in an ipynb) and send as PDF.  Please send by noon, Tuesday March 30."
   ]
  }
 ],
 "metadata": {
  "kernelspec": {
   "display_name": "Python 3",
   "language": "python",
   "name": "python3"
  },
  "language_info": {
   "codemirror_mode": {
    "name": "ipython",
    "version": 3
   },
   "file_extension": ".py",
   "mimetype": "text/x-python",
   "name": "python",
   "nbconvert_exporter": "python",
   "pygments_lexer": "ipython3",
   "version": "3.8.6"
  }
 },
 "nbformat": 4,
 "nbformat_minor": 4
}
